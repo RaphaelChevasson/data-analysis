{
 "cells": [
  {
   "cell_type": "markdown",
   "metadata": {},
   "source": [
    "# Session 5 : Unsupervised learning"
   ]
  },
  {
   "cell_type": "markdown",
   "metadata": {},
   "source": [
    "## Preprocessing data"
   ]
  },
  {
   "cell_type": "markdown",
   "metadata": {},
   "source": [
    "We saw that PCA can be used as a pre-processing step before using supervised learning algorithms in order to improve accuracy or training speed. But sometimes, a simple pre-processing step like normalizing the data can bring a huge improvement."
   ]
  },
  {
   "cell_type": "markdown",
   "metadata": {},
   "source": [
    "### No normalization"
   ]
  },
  {
   "cell_type": "markdown",
   "metadata": {},
   "source": [
    "Before seing any improvements, we need to have a **baseline** (to know if we improve or deteriorate accuracy). We are going to train a classification SVM (with non-linear kernel). Do the following operations :\n",
    "* load the bread cancer dataset\n",
    "* separate it into a training and a test set\n",
    "* create a SVC model, with C=100\n",
    "* train your model, print its accuracy\n",
    "\n",
    "I know that you already did it in the last session, but try to see if you can do it again on your own, without any code snippet provided or looking at the correction."
   ]
  },
  {
   "cell_type": "code",
   "execution_count": 5,
   "metadata": {},
   "outputs": [
    {
     "name": "stdout",
     "output_type": "stream",
     "text": [
      "trained SVM with C=100\n",
      " | score on train set: 1.0\n",
      " | score on test set: 0.6293706293706294\n"
     ]
    }
   ],
   "source": [
    "from sklearn.datasets import load_breast_cancer\n",
    "dataset = load_breast_cancer()\n",
    "\n",
    "from sklearn.model_selection import train_test_split\n",
    "X_train, X_test, y_train, y_test = train_test_split(dataset.data, dataset.target, random_state=0)\n",
    "\n",
    "from sklearn.svm import SVC\n",
    "model = SVC(C=100)\n",
    "\n",
    "model.fit(X_train, y_train)\n",
    "print(\"trained SVM with C=100\")\n",
    "print(\" | score on train set:\", model.score(X_train, y_train))\n",
    "print(\" | score on test set:\", model.score(X_test, y_test))"
   ]
  },
  {
   "cell_type": "markdown",
   "metadata": {},
   "source": [
    "### Using built-in normalizers"
   ]
  },
  {
   "cell_type": "markdown",
   "metadata": {},
   "source": [
    "Let's see what our data looks like before normalization. For each feature, print its minimum and maximum value across all examples in training set."
   ]
  },
  {
   "cell_type": "code",
   "execution_count": 43,
   "metadata": {},
   "outputs": [
    {
     "name": "stdout",
     "output_type": "stream",
     "text": [
      "mean radius :\n",
      " | min: 6.981\n",
      " | max: 28.11\n",
      "mean texture :\n",
      " | min: 9.71\n",
      " | max: 33.81\n",
      "mean perimeter :\n",
      " | min: 43.79\n",
      " | max: 188.5\n",
      "mean area :\n",
      " | min: 143.5\n",
      " | max: 2501.0\n",
      "mean smoothness :\n",
      " | min: 0.05263\n",
      " | max: 0.1447\n",
      "mean compactness :\n",
      " | min: 0.01938\n",
      " | max: 0.3114\n",
      "mean concavity :\n",
      " | min: 0.0\n",
      " | max: 0.4268\n",
      "mean concave points :\n",
      " | min: 0.0\n",
      " | max: 0.2012\n",
      "mean symmetry :\n",
      " | min: 0.106\n",
      " | max: 0.304\n",
      "mean fractal dimension :\n",
      " | min: 0.04996\n",
      " | max: 0.09744\n",
      "radius error :\n",
      " | min: 0.1115\n",
      " | max: 2.873\n",
      "texture error :\n",
      " | min: 0.3628\n",
      " | max: 4.885\n",
      "perimeter error :\n",
      " | min: 0.757\n",
      " | max: 21.98\n",
      "area error :\n",
      " | min: 7.228\n",
      " | max: 542.2\n",
      "smoothness error :\n",
      " | min: 0.001713\n",
      " | max: 0.02333\n",
      "compactness error :\n",
      " | min: 0.002252\n",
      " | max: 0.1064\n",
      "concavity error :\n",
      " | min: 0.0\n",
      " | max: 0.396\n",
      "concave points error :\n",
      " | min: 0.0\n",
      " | max: 0.05279\n",
      "symmetry error :\n",
      " | min: 0.007882\n",
      " | max: 0.06146\n",
      "fractal dimension error :\n",
      " | min: 0.0008948\n",
      " | max: 0.02984\n",
      "worst radius :\n",
      " | min: 7.93\n",
      " | max: 36.04\n",
      "worst texture :\n",
      " | min: 12.02\n",
      " | max: 49.54\n",
      "worst perimeter :\n",
      " | min: 50.41\n",
      " | max: 251.2\n",
      "worst area :\n",
      " | min: 185.2\n",
      " | max: 4254.0\n",
      "worst smoothness :\n",
      " | min: 0.07117\n",
      " | max: 0.2226\n",
      "worst compactness :\n",
      " | min: 0.02729\n",
      " | max: 1.058\n",
      "worst concavity :\n",
      " | min: 0.0\n",
      " | max: 1.252\n",
      "worst concave points :\n",
      " | min: 0.0\n",
      " | max: 0.2903\n",
      "worst symmetry :\n",
      " | min: 0.1565\n",
      " | max: 0.6638\n",
      "worst fractal dimension :\n",
      " | min: 0.05504\n",
      " | max: 0.2075\n"
     ]
    }
   ],
   "source": [
    "import numpy as np, pandas as pd\n",
    "for feature, mi, ma in zip(np.array(dataset.feature_names), X_train.min(0), X_train.max(0)):\n",
    "    print(feature,\":\")\n",
    "    print(\" | min:\", mi)\n",
    "    print(\" | max:\", ma)"
   ]
  },
  {
   "cell_type": "markdown",
   "metadata": {},
   "source": [
    "Now we can use a normalizer, to make sure that each feature has a value between 0 and 1."
   ]
  },
  {
   "cell_type": "code",
   "execution_count": 50,
   "metadata": {},
   "outputs": [
    {
     "name": "stdout",
     "output_type": "stream",
     "text": [
      "mean radius :\n",
      " | min: 0.0\n",
      " | max: 1.0\n",
      "mean texture :\n",
      " | min: 0.0\n",
      " | max: 1.0\n",
      "mean perimeter :\n",
      " | min: 0.0\n",
      " | max: 1.0\n",
      "mean area :\n",
      " | min: 0.0\n",
      " | max: 0.9999999999999999\n",
      "mean smoothness :\n",
      " | min: 0.0\n",
      " | max: 1.0\n",
      "\n",
      "features are now scaled\n"
     ]
    }
   ],
   "source": [
    "from sklearn.preprocessing import MinMaxScaler\n",
    "\n",
    "# look at the documentation of MinMaxScaler to find examples\n",
    "# of use case. Then create a new variable X_train_scaled that\n",
    "# is the rescaled X_train. Print again the maximum and\n",
    "# minimum values in X_train_scaled for each features. What is\n",
    "# the difference ?\n",
    "\n",
    "scaler = MinMaxScaler()\n",
    "scaler.fit(X_train)\n",
    "X_train_scaled = scaler.transform(X_train)\n",
    "\n",
    "# verify 5 first features min and max\n",
    "for feature, mi, ma in list(zip(np.array(dataset.feature_names), X_train_scaled.min(0), X_train_scaled.max(0)))[:5]:\n",
    "    print(feature,\":\")\n",
    "    print(\" | min:\", mi)\n",
    "    print(\" | max:\", ma)\n",
    "    \n",
    "print(\"\\nfeatures are now scaled\")"
   ]
  },
  {
   "cell_type": "markdown",
   "metadata": {},
   "source": [
    "Use the same scaler (without modifying it) to also rescale the `X_test` variable."
   ]
  },
  {
   "cell_type": "code",
   "execution_count": 51,
   "metadata": {},
   "outputs": [],
   "source": [
    "X_test_scaled = scaler.transform(X_test)"
   ]
  },
  {
   "cell_type": "markdown",
   "metadata": {},
   "source": [
    "Train again a SVC model, but this time train it on the scaled data. Do you see any improvements ?"
   ]
  },
  {
   "cell_type": "code",
   "execution_count": 52,
   "metadata": {},
   "outputs": [
    {
     "name": "stdout",
     "output_type": "stream",
     "text": [
      "trained SVM with C=100\n",
      " | score on train set: 0.9859154929577465\n",
      " | score on test set: 0.965034965034965\n"
     ]
    }
   ],
   "source": [
    "model = SVC(C=100)\n",
    "\n",
    "model.fit(X_train_scaled, y_train)\n",
    "print(\"trained SVM with C=100\")\n",
    "print(\" | score on train set:\", model.score(X_train_scaled, y_train))\n",
    "print(\" | score on test set:\", model.score(X_test_scaled, y_test))"
   ]
  },
  {
   "cell_type": "markdown",
   "metadata": {},
   "source": [
    "Many more different types of scaler are implemented in scikit-learn :\n",
    "* MaxAbsScaler\n",
    "* RobustScaler\n",
    "* StandardScaler"
   ]
  },
  {
   "cell_type": "code",
   "execution_count": 56,
   "metadata": {},
   "outputs": [
    {
     "name": "stdout",
     "output_type": "stream",
     "text": [
      "scaling train and test inputs according to train inputs using MinMaxScaler\n",
      "building SVC model with 1 parameters: C = 100\n",
      " | score on train set: 0.9859154929577465\n",
      " | score on test set: 0.965034965034965\n",
      "scaling train and test inputs according to train inputs using MaxAbsScaler\n",
      "building SVC model with 1 parameters: C = 100\n",
      " | score on train set: 0.9859154929577465\n",
      " | score on test set: 0.972027972027972\n",
      "scaling train and test inputs according to train inputs using RobustScaler\n",
      "building SVC model with 1 parameters: C = 100\n",
      " | score on train set: 1.0\n",
      " | score on test set: 0.951048951048951\n",
      "scaling train and test inputs according to train inputs using StandardScaler\n",
      "building SVC model with 1 parameters: C = 100\n",
      " | score on train set: 1.0\n",
      " | score on test set: 0.958041958041958\n"
     ]
    }
   ],
   "source": [
    "# use each type of scaler and train a SVC model for each one.\n",
    "# Which one is the best ?\n",
    "\n",
    "def scale_fit_and_score(scaler_class, model_class, X_train, X_test, y_train, y_test, *args, **kwargs):\n",
    "    print(\"scaling train and test inputs according to train inputs using\", scaler_class.__name__)\n",
    "    scaler = scaler_class()\n",
    "    scaler.fit(X_train)\n",
    "    X_train_scaled = scaler.transform(X_train)\n",
    "    X_test_scaled = scaler.transform(X_test)\n",
    "    print(\"building {} model with {} parameters:\".format(model_class.__name__, len(args) + len(kwargs)),\n",
    "          *[\"arg {} = {}\".format(i, args[i]) for i in range(len(args))],\n",
    "          *[\"{} = {}\".format(kwarg, kwargs[kwarg]) for kwarg in kwargs])\n",
    "    model = model_class(*args, **kwargs)\n",
    "    model.fit(X_train_scaled, y_train)\n",
    "    print(\" | score on train set:\", model.score(X_train_scaled, y_train))\n",
    "    print(\" | score on test set:\", model.score(X_test_scaled, y_test))\n",
    "    return {\"model\": model, \"scaled X_train\": X_train_scaled, \"scaled X_test\": X_test_scaled}\n",
    "\n",
    "from sklearn.preprocessing import MaxAbsScaler, RobustScaler, StandardScaler\n",
    "for scaler_class in [MinMaxScaler, MaxAbsScaler, RobustScaler, StandardScaler]:\n",
    "    scale_fit_and_score(scaler_class, SVC, X_train, X_test, y_train, y_test, C=100)"
   ]
  },
  {
   "cell_type": "markdown",
   "metadata": {},
   "source": [
    "**Answer:** MaxAbsScaler is the best here"
   ]
  },
  {
   "cell_type": "code",
   "execution_count": 65,
   "metadata": {},
   "outputs": [
    {
     "name": "stdout",
     "output_type": "stream",
     "text": [
      "scaling train and test inputs according to train inputs using MinMaxScaler\n",
      "building SVC model with 1 parameters: C = 100\n",
      " | score on train set: 0.9859154929577465\n",
      " | score on test set: 0.965034965034965\n",
      " | mean radius :\n",
      " |  | min: 0.0\n",
      " |  | max: 1.0\n",
      " |  | mean: 0.3397307663165482\n",
      " |  | median: 0.3026172559042075\n",
      " | mean texture :\n",
      " |  | min: 0.0\n",
      " |  | max: 1.0\n",
      " |  | mean: 0.39514542302222755\n",
      " |  | median: 0.3775933609958506\n",
      " | mean perimeter :\n",
      " |  | min: 0.0\n",
      " |  | max: 1.0\n",
      " |  | mean: 0.334143436622314\n",
      " |  | median: 0.29369082993573353\n",
      " | mean area :\n",
      " |  | min: 0.0\n",
      " |  | max: 0.9999999999999999\n",
      " |  | mean: 0.21841570454896214\n",
      " |  | median: 0.17353128313891836\n",
      " | mean smoothness :\n",
      " |  | min: 0.0\n",
      " |  | max: 1.0\n",
      " |  | mean: 0.47502971560218216\n",
      " |  | median: 0.47056587379168024\n",
      "scaling train and test inputs according to train inputs using MaxAbsScaler\n",
      "building SVC model with 1 parameters: C = 100\n",
      " | score on train set: 0.9859154929577465\n",
      " | score on test set: 0.972027972027972\n",
      " | mean radius :\n",
      " |  | min: 0.24834578441835645\n",
      " |  | max: 1.0\n",
      " |  | mean: 0.5037058470829723\n",
      " |  | median: 0.47580932052650304\n",
      " | mean texture :\n",
      " |  | min: 0.2871931381248152\n",
      " |  | max: 1.0\n",
      " |  | mean: 0.568855507093632\n",
      " |  | median: 0.5563442768411713\n",
      " | mean perimeter :\n",
      " |  | min: 0.2323076923076923\n",
      " |  | max: 1.0\n",
      " |  | mean: 0.488827038268515\n",
      " |  | median: 0.45777188328912466\n",
      " | mean area :\n",
      " |  | min: 0.05737704918032787\n",
      " |  | max: 1.0\n",
      " |  | mean: 0.26326070510762833\n",
      " |  | median: 0.2209516193522591\n",
      " | mean smoothness :\n",
      " |  | min: 0.3637180373185902\n",
      " |  | max: 1.0\n",
      " |  | mean: 0.6659708770939389\n",
      " |  | median: 0.6631306150656531\n",
      "scaling train and test inputs according to train inputs using RobustScaler\n",
      "building SVC model with 1 parameters: C = 100\n",
      " | score on train set: 1.0\n",
      " | score on test set: 0.951048951048951\n",
      " | mean radius :\n",
      " |  | min: -1.5856168629882212\n",
      " |  | max: 3.6540607563546197\n",
      " |  | mean: 0.19446282988278926\n",
      " |  | median: 0.0\n",
      " | mean texture :\n",
      " |  | min: -1.6789667896678975\n",
      " |  | max: 2.767527675276754\n",
      " |  | mean: 0.07804514664864923\n",
      " |  | median: -3.27754316742368e-16\n",
      " | mean perimeter :\n",
      " |  | min: -1.501368895169125\n",
      " |  | max: 3.610703877064384\n",
      " |  | mean: 0.20679666920833828\n",
      " |  | median: 2.509928029303943e-16\n",
      " | mean area :\n",
      " |  | min: -1.1666072574320954\n",
      " |  | max: 5.556141726669995\n",
      " |  | mean: 0.3017466984363824\n",
      " |  | median: 0.0\n",
      " | mean smoothness :\n",
      " |  | min: -2.3088196109778836\n",
      " |  | max: 2.5976552091659997\n",
      " |  | mean: 0.021901727444335675\n",
      " |  | median: 0.0\n",
      "scaling train and test inputs according to train inputs using StandardScaler\n",
      "building SVC model with 1 parameters: C = 100\n",
      " | score on train set: 1.0\n",
      " | score on test set: 0.958041958041958\n",
      " | mean radius :\n",
      " |  | min: -2.023040513692614\n",
      " |  | max: 3.931794062012603\n",
      " |  | mean: -3.385137762172807e-15\n",
      " |  | median: -0.22100481502920558\n",
      " | mean texture :\n",
      " |  | min: -2.312656456648141\n",
      " |  | max: 3.5400152988793185\n",
      " |  | mean: -1.0951073120833117e-15\n",
      " |  | median: -0.10272645767304249\n",
      " | mean perimeter :\n",
      " |  | min: -1.981020777835625\n",
      " |  | max: 3.9476330896793614\n",
      " |  | mean: 4.192785920227586e-15\n",
      " |  | median: -0.2398295030834523\n",
      " | mean area :\n",
      " |  | min: -1.4303124714762256\n",
      " |  | max: 5.1182664158793365\n",
      " |  | mean: -1.5042740136470432e-15\n",
      " |  | median: -0.29392917441698463\n",
      " | mean smoothness :\n",
      " |  | min: -3.1604315949062243\n",
      " |  | max: 3.4926923910318473\n",
      " |  | mean: -2.2054606445752083e-15\n",
      " |  | median: -0.029698493018889174\n"
     ]
    }
   ],
   "source": [
    "# look also at the features of your scaled dataset to see\n",
    "# differences between the different scalers (do some of\n",
    "# them keep negative values ? does it change the dimension\n",
    "# mean/median?)\n",
    "\n",
    "for scaler_class in [MinMaxScaler, MaxAbsScaler, RobustScaler, StandardScaler]:\n",
    "    # get scaled X_train features\n",
    "    features = scale_fit_and_score(scaler_class, SVC, X_train, X_test, y_train, y_test, C=100)[\"scaled X_train\"]\n",
    "    # print a few of them (5 first)\n",
    "    for name, mi, ma, mean, med in list(zip(np.array(dataset.feature_names), features.min(0), features.max(0),\n",
    "                                            np.mean(features, axis=0), np.median(features, axis=0))\n",
    "                                       )[:5]:\n",
    "        print(\" |\", name,\":\")\n",
    "        print(\" |  | min:\", mi)\n",
    "        print(\" |  | max:\", ma)\n",
    "        print(\" |  | mean:\", mean)\n",
    "        print(\" |  | median:\", med)"
   ]
  },
  {
   "cell_type": "markdown",
   "metadata": {},
   "source": [
    "**Answer:** StandardScaler and RobustScaler keep negative values.\n",
    "- MinMax : min and max alignment\n",
    "- MaxAbs : max(|x|) alignment\n",
    "- Robust : median alignment,...\n",
    "- Standard : mean alignment,..."
   ]
  },
  {
   "cell_type": "markdown",
   "metadata": {},
   "source": [
    "## Principal component analysis"
   ]
  },
  {
   "cell_type": "markdown",
   "metadata": {},
   "source": [
    "### PCA for 2D visualization"
   ]
  },
  {
   "cell_type": "markdown",
   "metadata": {},
   "source": [
    "We are going use the PCA algorithm on the breast cancer dataset. This dataset has 30 features, so we can not visualize them."
   ]
  },
  {
   "cell_type": "code",
   "execution_count": 67,
   "metadata": {},
   "outputs": [],
   "source": [
    "# if you didn't do it before, scale the breast cancer\n",
    "# dataset with a StandardScaler(). We do not need to have a\n",
    "# training and test set, because we want to visualize the \n",
    "# entire dataset, so you can apply the scaler on the entire\n",
    "# dataset.\n",
    "\n",
    "from sklearn.datasets import load_breast_cancer\n",
    "from sklearn.preprocessing import StandardScaler\n",
    "\n",
    "X = load_breast_cancer().data\n",
    "scaler = StandardScaler()\n",
    "scaler.fit(X)\n",
    "X_scaled = scaler.transform(X)"
   ]
  },
  {
   "cell_type": "code",
   "execution_count": 71,
   "metadata": {},
   "outputs": [],
   "source": [
    "# now we can use PCA\n",
    "from sklearn.decomposition import PCA\n",
    "\n",
    "# use the documentation of PCA to create a model that will\n",
    "# only keep 2 components\n",
    "pca = PCA(n_components=2)\n",
    "\n",
    "# then call the .fit() method of PCA on your scaled data\n",
    "pca.fit(X_scaled);"
   ]
  },
  {
   "cell_type": "code",
   "execution_count": 72,
   "metadata": {},
   "outputs": [
    {
     "name": "stdout",
     "output_type": "stream",
     "text": [
      "(569, 30)\n",
      "(569, 2)\n"
     ]
    }
   ],
   "source": [
    "# we can now transform the dataset with 30 features into\n",
    "# a dataset with only 2 features\n",
    "X_pca = pca.transform(X_scaled)\n",
    "print(X_scaled.shape)\n",
    "print(X_pca.shape)"
   ]
  },
  {
   "cell_type": "code",
   "execution_count": 108,
   "metadata": {},
   "outputs": [
    {
     "data": {
      "image/png": "[encoded data removed]",
      "text/plain": [
       "<Figure size 432x288 with 1 Axes>"
      ]
     },
     "metadata": {},
     "output_type": "display_data"
    }
   ],
   "source": [
    "# now plot the new dataset (the one with only 2 features)\n",
    "# on a 2D plan. Use a different color for the two classes.\n",
    "from matplotlib import pyplot as plt\n",
    "%matplotlib inline\n",
    "y = load_breast_cancer().target\n",
    "plt.scatter(X_pca[:,0], X_pca[:,1], c=[\"blue\" if label==1 else \"red\" for label in y])\n",
    "plt.title(\"red: cancerous, blue: benin\");"
   ]
  },
  {
   "cell_type": "markdown",
   "metadata": {},
   "source": [
    "Hum, interesting... It looks like our\n",
    "dataset is almost linearly separable. This means that a\n",
    "linear model (like SVM with linear kernel or logistic regression) could do quite well on this dataset. Let's see if that's the case."
   ]
  },
  {
   "cell_type": "code",
   "execution_count": null,
   "metadata": {},
   "outputs": [],
   "source": [
    "# start by splitting the X_pca dataset into a training\n",
    "# and a test set with random_state=7 (because we are going \n",
    "# to train on this new dataset composed of only 2 features)"
   ]
  },
  {
   "cell_type": "markdown",
   "metadata": {},
   "source": [
    "### PCA for 3D visualization"
   ]
  },
  {
   "cell_type": "markdown",
   "metadata": {},
   "source": [
    "PCA can reduce any dataset with $n$ features into a dataset with 2 or 3 features. And matplotlib can draw functions and points in 3D, so we can project our data into a 3D space."
   ]
  },
  {
   "cell_type": "code",
   "execution_count": null,
   "metadata": {},
   "outputs": [],
   "source": [
    "# repeat the same process as before so you get a new\n",
    "# dataset for the breast cancer dataset that only contains \n",
    "# 3 features."
   ]
  },
  {
   "cell_type": "markdown",
   "metadata": {},
   "source": [
    "Now we can visualize it in 3D."
   ]
  },
  {
   "cell_type": "code",
   "execution_count": null,
   "metadata": {},
   "outputs": [],
   "source": [
    "import matplotlib.pyplot as plt\n",
    "from mpl_toolkits.mplot3d import Axes3D\n",
    "fig = plt.figure()\n",
    "ax = fig.add_subplot(111, projection='3d')\n",
    "\n",
    "# use the function below, but replace the value x, y and z\n",
    "# with the appropriate one from your dataset that contains\n",
    "# 3 features. Separate the 2 different classes with 2 \n",
    "# different colors.\n",
    "#ax.scatter(x, y, z)"
   ]
  },
  {
   "cell_type": "markdown",
   "metadata": {},
   "source": [
    "## Clustering with k-means algorithm"
   ]
  },
  {
   "cell_type": "markdown",
   "metadata": {},
   "source": [
    "In this part, you are going to implement from scratch the k-means algorithm."
   ]
  },
  {
   "cell_type": "markdown",
   "metadata": {},
   "source": [
    "### Loading and visualizing the data"
   ]
  },
  {
   "cell_type": "markdown",
   "metadata": {},
   "source": [
    "The data we are going to use are inside `data-clustering.csv`."
   ]
  },
  {
   "cell_type": "code",
   "execution_count": null,
   "metadata": {},
   "outputs": [],
   "source": [
    "# look at the first 10 rows of this file with the bash\n",
    "# command head"
   ]
  },
  {
   "cell_type": "markdown",
   "metadata": {},
   "source": [
    "It seems that we have 2 columns, named V1 and V2. Let's load it into 2 ndarrays : x and y."
   ]
  },
  {
   "cell_type": "code",
   "execution_count": null,
   "metadata": {},
   "outputs": [],
   "source": [
    "import numpy as np\n",
    "lines = open(\"data_clustering.csv\").read().split()[1:]\n",
    "x = np.array([line.split(',')[0] for line in lines], \n",
    "             dtype=np.float32)\n",
    "y = np.array([line.split(',')[1] for line in lines], \n",
    "             dtype=np.float32)"
   ]
  },
  {
   "cell_type": "code",
   "execution_count": null,
   "metadata": {},
   "outputs": [],
   "source": [
    "# now plot the points (x, y) with matplotlib. Modify the \n",
    "# value of the argument s so that points are not too big."
   ]
  },
  {
   "cell_type": "code",
   "execution_count": null,
   "metadata": {},
   "outputs": [],
   "source": [
    "# How many clusters do you think there are ?"
   ]
  },
  {
   "cell_type": "markdown",
   "metadata": {},
   "source": [
    "### Distance function"
   ]
  },
  {
   "cell_type": "markdown",
   "metadata": {},
   "source": [
    "The algorithm requires a distance (so we can compute which centroid is closer for each point). Implement a function `distance` that takes 2 arguments (two vectors as ndarray) and return the distance between them. Hint : the distance between two vectors can be computed with \n",
    "\\begin{equation}\n",
    "d(u, v) = \\sqrt{\\sum_{i=0}^k (u_i - v_i)^2}\n",
    "\\end{equation}"
   ]
  },
  {
   "cell_type": "code",
   "execution_count": null,
   "metadata": {},
   "outputs": [],
   "source": []
  },
  {
   "cell_type": "markdown",
   "metadata": {},
   "source": [
    "### Algorithm: 1-step"
   ]
  },
  {
   "cell_type": "markdown",
   "metadata": {},
   "source": [
    "Before implementing the complete algorithm, let's start with only one step. You need the following things before starting :\n",
    "* define a constant variable K\n",
    "* declare an empty array `clusters` that has the same size as x. We will put in each cell $i$ the cluster assigned to $x_i$\n",
    "* create an array `centroids` where you will store the centroids\n",
    "\n",
    "Then implement only one step from the algorithm described in the course (i.e. one iteration of the **while** loop)."
   ]
  },
  {
   "cell_type": "code",
   "execution_count": null,
   "metadata": {},
   "outputs": [],
   "source": []
  },
  {
   "cell_type": "markdown",
   "metadata": {},
   "source": [
    "After running one iteration, you can plot on the same graph :\n",
    "* all points\n",
    "* the first centroids chosen at random\n",
    "* the new updated centroids\n",
    "\n",
    "Do you see the beginning of an improvement ?"
   ]
  },
  {
   "cell_type": "code",
   "execution_count": null,
   "metadata": {},
   "outputs": [],
   "source": []
  },
  {
   "cell_type": "markdown",
   "metadata": {},
   "source": [
    "### Algorithm : mutiple steps"
   ]
  },
  {
   "cell_type": "markdown",
   "metadata": {},
   "source": [
    "The algorithm will repeat steps like the one you created a certain amount of time before convergence. We can consider the algorithm has converged when it does not update the values of centroids any longer (i.e. the distance between old and updated centroids is 0 for each centroid). Implement the full algorithm."
   ]
  },
  {
   "cell_type": "code",
   "execution_count": null,
   "metadata": {},
   "outputs": [],
   "source": []
  },
  {
   "cell_type": "markdown",
   "metadata": {},
   "source": [
    "Now, print each cluster on a 2D plan as well as all the points contained inside them. Assign a different color for each group. Do you see something that seems correct ? (i.e. as a human, what would have you done ?)"
   ]
  },
  {
   "cell_type": "code",
   "execution_count": null,
   "metadata": {},
   "outputs": [],
   "source": []
  },
  {
   "cell_type": "markdown",
   "metadata": {},
   "source": [
    "Run again your algorithm but with a different value for k. What happens ? Do you think it is a good idea to put a high value for k (k > 10) when the number of clusters is small (< 5) ?"
   ]
  },
  {
   "cell_type": "code",
   "execution_count": null,
   "metadata": {},
   "outputs": [],
   "source": []
  }
 ],
 "metadata": {
  "kernelspec": {
   "display_name": "Python 3",
   "language": "python",
   "name": "python3"
  },
  "language_info": {
   "codemirror_mode": {
    "name": "ipython",
    "version": 3
   },
   "file_extension": ".py",
   "mimetype": "text/x-python",
   "name": "python",
   "nbconvert_exporter": "python",
   "pygments_lexer": "ipython3",
   "version": "3.6.5"
  }
 },
 "nbformat": 4,
 "nbformat_minor": 2
}
