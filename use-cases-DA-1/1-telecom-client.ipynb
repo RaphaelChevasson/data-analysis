{
 "cells": [
  {
   "cell_type": "markdown",
   "metadata": {},
   "source": [
    "# Analysis of the behaviour of a telecom operator's customers"
   ]
  },
  {
   "cell_type": "markdown",
   "metadata": {},
   "source": [
    "The file `telecom_client.csv` contains many information about the customers of a telecom operator. Let's see if we can analyze this file to help the company to increase its profits."
   ]
  },
  {
   "cell_type": "markdown",
   "metadata": {},
   "source": [
    "## Getting started with the dataset"
   ]
  },
  {
   "cell_type": "code",
   "execution_count": 56,
   "metadata": {},
   "outputs": [],
   "source": [
    "# Using the pandas library, read the file telecom_client.csv\n",
    "file = \"telecom_client.csv\"\n",
    "\n",
    "import pandas as pd\n",
    "\n",
    "table = pd.read_csv(file)"
   ]
  },
  {
   "cell_type": "code",
   "execution_count": 57,
   "metadata": {},
   "outputs": [
    {
     "data": {
      "text/plain": [
       "'there is 20 information = columns'"
      ]
     },
     "execution_count": 57,
     "metadata": {},
     "output_type": "execute_result"
    }
   ],
   "source": [
    "# How many information (i.e. columns) are in this dataset?\n",
    "# Don't count them manually! Use a piece of code to do it.\n",
    "\"there is {} information = columns\".format( len(table.columns) )"
   ]
  },
  {
   "cell_type": "code",
   "execution_count": 58,
   "metadata": {},
   "outputs": [
    {
     "data": {
      "text/plain": [
       "'there is 3333 clients = lines'"
      ]
     },
     "execution_count": 58,
     "metadata": {},
     "output_type": "execute_result"
    }
   ],
   "source": [
    "# How many clients does this dataset have?\n",
    "\"there is {} clients = lines\".format( len(table) )"
   ]
  },
  {
   "cell_type": "code",
   "execution_count": 59,
   "metadata": {},
   "outputs": [
    {
     "data": {
      "text/html": [
       "<div>\n",
       "<style scoped>\n",
       "    .dataframe tbody tr th:only-of-type {\n",
       "        vertical-align: middle;\n",
       "    }\n",
       "\n",
       "    .dataframe tbody tr th {\n",
       "        vertical-align: top;\n",
       "    }\n",
       "\n",
       "    .dataframe thead th {\n",
       "        text-align: right;\n",
       "    }\n",
       "</style>\n",
       "<table border=\"1\" class=\"dataframe\">\n",
       "  <thead>\n",
       "    <tr style=\"text-align: right;\">\n",
       "      <th></th>\n",
       "      <th>State</th>\n",
       "      <th>Account length</th>\n",
       "      <th>Area code</th>\n",
       "      <th>International plan</th>\n",
       "      <th>Voice mail plan</th>\n",
       "      <th>Number vmail messages</th>\n",
       "      <th>Total day minutes</th>\n",
       "      <th>Total day calls</th>\n",
       "      <th>Total day charge</th>\n",
       "      <th>Total eve minutes</th>\n",
       "      <th>Total eve calls</th>\n",
       "      <th>Total eve charge</th>\n",
       "      <th>Total night minutes</th>\n",
       "      <th>Total night calls</th>\n",
       "      <th>Total night charge</th>\n",
       "      <th>Total intl minutes</th>\n",
       "      <th>Total intl calls</th>\n",
       "      <th>Total intl charge</th>\n",
       "      <th>Customer service calls</th>\n",
       "      <th>Termination</th>\n",
       "    </tr>\n",
       "  </thead>\n",
       "  <tbody>\n",
       "    <tr>\n",
       "      <th>0</th>\n",
       "      <td>KS</td>\n",
       "      <td>128</td>\n",
       "      <td>415</td>\n",
       "      <td>No</td>\n",
       "      <td>Yes</td>\n",
       "      <td>25</td>\n",
       "      <td>265.1</td>\n",
       "      <td>110</td>\n",
       "      <td>45.07</td>\n",
       "      <td>197.4</td>\n",
       "      <td>99</td>\n",
       "      <td>16.78</td>\n",
       "      <td>244.7</td>\n",
       "      <td>91</td>\n",
       "      <td>11.01</td>\n",
       "      <td>10.0</td>\n",
       "      <td>3</td>\n",
       "      <td>2.70</td>\n",
       "      <td>1</td>\n",
       "      <td>False</td>\n",
       "    </tr>\n",
       "    <tr>\n",
       "      <th>1</th>\n",
       "      <td>OH</td>\n",
       "      <td>107</td>\n",
       "      <td>415</td>\n",
       "      <td>No</td>\n",
       "      <td>Yes</td>\n",
       "      <td>26</td>\n",
       "      <td>161.6</td>\n",
       "      <td>123</td>\n",
       "      <td>27.47</td>\n",
       "      <td>195.5</td>\n",
       "      <td>103</td>\n",
       "      <td>16.62</td>\n",
       "      <td>254.4</td>\n",
       "      <td>103</td>\n",
       "      <td>11.45</td>\n",
       "      <td>13.7</td>\n",
       "      <td>3</td>\n",
       "      <td>3.70</td>\n",
       "      <td>1</td>\n",
       "      <td>False</td>\n",
       "    </tr>\n",
       "    <tr>\n",
       "      <th>2</th>\n",
       "      <td>NJ</td>\n",
       "      <td>137</td>\n",
       "      <td>415</td>\n",
       "      <td>No</td>\n",
       "      <td>No</td>\n",
       "      <td>0</td>\n",
       "      <td>243.4</td>\n",
       "      <td>114</td>\n",
       "      <td>41.38</td>\n",
       "      <td>121.2</td>\n",
       "      <td>110</td>\n",
       "      <td>10.30</td>\n",
       "      <td>162.6</td>\n",
       "      <td>104</td>\n",
       "      <td>7.32</td>\n",
       "      <td>12.2</td>\n",
       "      <td>5</td>\n",
       "      <td>3.29</td>\n",
       "      <td>0</td>\n",
       "      <td>False</td>\n",
       "    </tr>\n",
       "    <tr>\n",
       "      <th>3</th>\n",
       "      <td>OH</td>\n",
       "      <td>84</td>\n",
       "      <td>408</td>\n",
       "      <td>Yes</td>\n",
       "      <td>No</td>\n",
       "      <td>0</td>\n",
       "      <td>299.4</td>\n",
       "      <td>71</td>\n",
       "      <td>50.90</td>\n",
       "      <td>61.9</td>\n",
       "      <td>88</td>\n",
       "      <td>5.26</td>\n",
       "      <td>196.9</td>\n",
       "      <td>89</td>\n",
       "      <td>8.86</td>\n",
       "      <td>6.6</td>\n",
       "      <td>7</td>\n",
       "      <td>1.78</td>\n",
       "      <td>2</td>\n",
       "      <td>False</td>\n",
       "    </tr>\n",
       "    <tr>\n",
       "      <th>4</th>\n",
       "      <td>OK</td>\n",
       "      <td>75</td>\n",
       "      <td>415</td>\n",
       "      <td>Yes</td>\n",
       "      <td>No</td>\n",
       "      <td>0</td>\n",
       "      <td>166.7</td>\n",
       "      <td>113</td>\n",
       "      <td>28.34</td>\n",
       "      <td>148.3</td>\n",
       "      <td>122</td>\n",
       "      <td>12.61</td>\n",
       "      <td>186.9</td>\n",
       "      <td>121</td>\n",
       "      <td>8.41</td>\n",
       "      <td>10.1</td>\n",
       "      <td>3</td>\n",
       "      <td>2.73</td>\n",
       "      <td>3</td>\n",
       "      <td>False</td>\n",
       "    </tr>\n",
       "    <tr>\n",
       "      <th>5</th>\n",
       "      <td>AL</td>\n",
       "      <td>118</td>\n",
       "      <td>510</td>\n",
       "      <td>Yes</td>\n",
       "      <td>No</td>\n",
       "      <td>0</td>\n",
       "      <td>223.4</td>\n",
       "      <td>98</td>\n",
       "      <td>37.98</td>\n",
       "      <td>220.6</td>\n",
       "      <td>101</td>\n",
       "      <td>18.75</td>\n",
       "      <td>203.9</td>\n",
       "      <td>118</td>\n",
       "      <td>9.18</td>\n",
       "      <td>6.3</td>\n",
       "      <td>6</td>\n",
       "      <td>1.70</td>\n",
       "      <td>0</td>\n",
       "      <td>False</td>\n",
       "    </tr>\n",
       "    <tr>\n",
       "      <th>6</th>\n",
       "      <td>MA</td>\n",
       "      <td>121</td>\n",
       "      <td>510</td>\n",
       "      <td>No</td>\n",
       "      <td>Yes</td>\n",
       "      <td>24</td>\n",
       "      <td>218.2</td>\n",
       "      <td>88</td>\n",
       "      <td>37.09</td>\n",
       "      <td>348.5</td>\n",
       "      <td>108</td>\n",
       "      <td>29.62</td>\n",
       "      <td>212.6</td>\n",
       "      <td>118</td>\n",
       "      <td>9.57</td>\n",
       "      <td>7.5</td>\n",
       "      <td>7</td>\n",
       "      <td>2.03</td>\n",
       "      <td>3</td>\n",
       "      <td>False</td>\n",
       "    </tr>\n",
       "    <tr>\n",
       "      <th>7</th>\n",
       "      <td>MO</td>\n",
       "      <td>147</td>\n",
       "      <td>415</td>\n",
       "      <td>Yes</td>\n",
       "      <td>No</td>\n",
       "      <td>0</td>\n",
       "      <td>157.0</td>\n",
       "      <td>79</td>\n",
       "      <td>26.69</td>\n",
       "      <td>103.1</td>\n",
       "      <td>94</td>\n",
       "      <td>8.76</td>\n",
       "      <td>211.8</td>\n",
       "      <td>96</td>\n",
       "      <td>9.53</td>\n",
       "      <td>7.1</td>\n",
       "      <td>6</td>\n",
       "      <td>1.92</td>\n",
       "      <td>0</td>\n",
       "      <td>False</td>\n",
       "    </tr>\n",
       "    <tr>\n",
       "      <th>8</th>\n",
       "      <td>LA</td>\n",
       "      <td>117</td>\n",
       "      <td>408</td>\n",
       "      <td>No</td>\n",
       "      <td>No</td>\n",
       "      <td>0</td>\n",
       "      <td>184.5</td>\n",
       "      <td>97</td>\n",
       "      <td>31.37</td>\n",
       "      <td>351.6</td>\n",
       "      <td>80</td>\n",
       "      <td>29.89</td>\n",
       "      <td>215.8</td>\n",
       "      <td>90</td>\n",
       "      <td>9.71</td>\n",
       "      <td>8.7</td>\n",
       "      <td>4</td>\n",
       "      <td>2.35</td>\n",
       "      <td>1</td>\n",
       "      <td>False</td>\n",
       "    </tr>\n",
       "    <tr>\n",
       "      <th>9</th>\n",
       "      <td>WV</td>\n",
       "      <td>141</td>\n",
       "      <td>415</td>\n",
       "      <td>Yes</td>\n",
       "      <td>Yes</td>\n",
       "      <td>37</td>\n",
       "      <td>258.6</td>\n",
       "      <td>84</td>\n",
       "      <td>43.96</td>\n",
       "      <td>222.0</td>\n",
       "      <td>111</td>\n",
       "      <td>18.87</td>\n",
       "      <td>326.4</td>\n",
       "      <td>97</td>\n",
       "      <td>14.69</td>\n",
       "      <td>11.2</td>\n",
       "      <td>5</td>\n",
       "      <td>3.02</td>\n",
       "      <td>0</td>\n",
       "      <td>False</td>\n",
       "    </tr>\n",
       "    <tr>\n",
       "      <th>10</th>\n",
       "      <td>IN</td>\n",
       "      <td>65</td>\n",
       "      <td>415</td>\n",
       "      <td>No</td>\n",
       "      <td>No</td>\n",
       "      <td>0</td>\n",
       "      <td>129.1</td>\n",
       "      <td>137</td>\n",
       "      <td>21.95</td>\n",
       "      <td>228.5</td>\n",
       "      <td>83</td>\n",
       "      <td>19.42</td>\n",
       "      <td>208.8</td>\n",
       "      <td>111</td>\n",
       "      <td>9.40</td>\n",
       "      <td>12.7</td>\n",
       "      <td>6</td>\n",
       "      <td>3.43</td>\n",
       "      <td>4</td>\n",
       "      <td>True</td>\n",
       "    </tr>\n",
       "    <tr>\n",
       "      <th>11</th>\n",
       "      <td>RI</td>\n",
       "      <td>74</td>\n",
       "      <td>415</td>\n",
       "      <td>No</td>\n",
       "      <td>No</td>\n",
       "      <td>0</td>\n",
       "      <td>187.7</td>\n",
       "      <td>127</td>\n",
       "      <td>31.91</td>\n",
       "      <td>163.4</td>\n",
       "      <td>148</td>\n",
       "      <td>13.89</td>\n",
       "      <td>196.0</td>\n",
       "      <td>94</td>\n",
       "      <td>8.82</td>\n",
       "      <td>9.1</td>\n",
       "      <td>5</td>\n",
       "      <td>2.46</td>\n",
       "      <td>0</td>\n",
       "      <td>False</td>\n",
       "    </tr>\n",
       "    <tr>\n",
       "      <th>12</th>\n",
       "      <td>IA</td>\n",
       "      <td>168</td>\n",
       "      <td>408</td>\n",
       "      <td>No</td>\n",
       "      <td>No</td>\n",
       "      <td>0</td>\n",
       "      <td>128.8</td>\n",
       "      <td>96</td>\n",
       "      <td>21.90</td>\n",
       "      <td>104.9</td>\n",
       "      <td>71</td>\n",
       "      <td>8.92</td>\n",
       "      <td>141.1</td>\n",
       "      <td>128</td>\n",
       "      <td>6.35</td>\n",
       "      <td>11.2</td>\n",
       "      <td>2</td>\n",
       "      <td>3.02</td>\n",
       "      <td>1</td>\n",
       "      <td>False</td>\n",
       "    </tr>\n",
       "    <tr>\n",
       "      <th>13</th>\n",
       "      <td>MT</td>\n",
       "      <td>95</td>\n",
       "      <td>510</td>\n",
       "      <td>No</td>\n",
       "      <td>No</td>\n",
       "      <td>0</td>\n",
       "      <td>156.6</td>\n",
       "      <td>88</td>\n",
       "      <td>26.62</td>\n",
       "      <td>247.6</td>\n",
       "      <td>75</td>\n",
       "      <td>21.05</td>\n",
       "      <td>192.3</td>\n",
       "      <td>115</td>\n",
       "      <td>8.65</td>\n",
       "      <td>12.3</td>\n",
       "      <td>5</td>\n",
       "      <td>3.32</td>\n",
       "      <td>3</td>\n",
       "      <td>False</td>\n",
       "    </tr>\n",
       "    <tr>\n",
       "      <th>14</th>\n",
       "      <td>IA</td>\n",
       "      <td>62</td>\n",
       "      <td>415</td>\n",
       "      <td>No</td>\n",
       "      <td>No</td>\n",
       "      <td>0</td>\n",
       "      <td>120.7</td>\n",
       "      <td>70</td>\n",
       "      <td>20.52</td>\n",
       "      <td>307.2</td>\n",
       "      <td>76</td>\n",
       "      <td>26.11</td>\n",
       "      <td>203.0</td>\n",
       "      <td>99</td>\n",
       "      <td>9.14</td>\n",
       "      <td>13.1</td>\n",
       "      <td>6</td>\n",
       "      <td>3.54</td>\n",
       "      <td>4</td>\n",
       "      <td>False</td>\n",
       "    </tr>\n",
       "  </tbody>\n",
       "</table>\n",
       "</div>"
      ],
      "text/plain": [
       "   State  Account length  Area code International plan Voice mail plan  \\\n",
       "0     KS             128        415                 No             Yes   \n",
       "1     OH             107        415                 No             Yes   \n",
       "2     NJ             137        415                 No              No   \n",
       "3     OH              84        408                Yes              No   \n",
       "4     OK              75        415                Yes              No   \n",
       "5     AL             118        510                Yes              No   \n",
       "6     MA             121        510                 No             Yes   \n",
       "7     MO             147        415                Yes              No   \n",
       "8     LA             117        408                 No              No   \n",
       "9     WV             141        415                Yes             Yes   \n",
       "10    IN              65        415                 No              No   \n",
       "11    RI              74        415                 No              No   \n",
       "12    IA             168        408                 No              No   \n",
       "13    MT              95        510                 No              No   \n",
       "14    IA              62        415                 No              No   \n",
       "\n",
       "    Number vmail messages  Total day minutes  Total day calls  \\\n",
       "0                      25              265.1              110   \n",
       "1                      26              161.6              123   \n",
       "2                       0              243.4              114   \n",
       "3                       0              299.4               71   \n",
       "4                       0              166.7              113   \n",
       "5                       0              223.4               98   \n",
       "6                      24              218.2               88   \n",
       "7                       0              157.0               79   \n",
       "8                       0              184.5               97   \n",
       "9                      37              258.6               84   \n",
       "10                      0              129.1              137   \n",
       "11                      0              187.7              127   \n",
       "12                      0              128.8               96   \n",
       "13                      0              156.6               88   \n",
       "14                      0              120.7               70   \n",
       "\n",
       "    Total day charge  Total eve minutes  Total eve calls  Total eve charge  \\\n",
       "0              45.07              197.4               99             16.78   \n",
       "1              27.47              195.5              103             16.62   \n",
       "2              41.38              121.2              110             10.30   \n",
       "3              50.90               61.9               88              5.26   \n",
       "4              28.34              148.3              122             12.61   \n",
       "5              37.98              220.6              101             18.75   \n",
       "6              37.09              348.5              108             29.62   \n",
       "7              26.69              103.1               94              8.76   \n",
       "8              31.37              351.6               80             29.89   \n",
       "9              43.96              222.0              111             18.87   \n",
       "10             21.95              228.5               83             19.42   \n",
       "11             31.91              163.4              148             13.89   \n",
       "12             21.90              104.9               71              8.92   \n",
       "13             26.62              247.6               75             21.05   \n",
       "14             20.52              307.2               76             26.11   \n",
       "\n",
       "    Total night minutes  Total night calls  Total night charge  \\\n",
       "0                 244.7                 91               11.01   \n",
       "1                 254.4                103               11.45   \n",
       "2                 162.6                104                7.32   \n",
       "3                 196.9                 89                8.86   \n",
       "4                 186.9                121                8.41   \n",
       "5                 203.9                118                9.18   \n",
       "6                 212.6                118                9.57   \n",
       "7                 211.8                 96                9.53   \n",
       "8                 215.8                 90                9.71   \n",
       "9                 326.4                 97               14.69   \n",
       "10                208.8                111                9.40   \n",
       "11                196.0                 94                8.82   \n",
       "12                141.1                128                6.35   \n",
       "13                192.3                115                8.65   \n",
       "14                203.0                 99                9.14   \n",
       "\n",
       "    Total intl minutes  Total intl calls  Total intl charge  \\\n",
       "0                 10.0                 3               2.70   \n",
       "1                 13.7                 3               3.70   \n",
       "2                 12.2                 5               3.29   \n",
       "3                  6.6                 7               1.78   \n",
       "4                 10.1                 3               2.73   \n",
       "5                  6.3                 6               1.70   \n",
       "6                  7.5                 7               2.03   \n",
       "7                  7.1                 6               1.92   \n",
       "8                  8.7                 4               2.35   \n",
       "9                 11.2                 5               3.02   \n",
       "10                12.7                 6               3.43   \n",
       "11                 9.1                 5               2.46   \n",
       "12                11.2                 2               3.02   \n",
       "13                12.3                 5               3.32   \n",
       "14                13.1                 6               3.54   \n",
       "\n",
       "    Customer service calls  Termination  \n",
       "0                        1        False  \n",
       "1                        1        False  \n",
       "2                        0        False  \n",
       "3                        2        False  \n",
       "4                        3        False  \n",
       "5                        0        False  \n",
       "6                        3        False  \n",
       "7                        0        False  \n",
       "8                        1        False  \n",
       "9                        0        False  \n",
       "10                       4         True  \n",
       "11                       0        False  \n",
       "12                       1        False  \n",
       "13                       3        False  \n",
       "14                       4        False  "
      ]
     },
     "execution_count": 59,
     "metadata": {},
     "output_type": "execute_result"
    }
   ],
   "source": [
    "# Print the first 15 items of this dataset\n",
    "table[:15]"
   ]
  },
  {
   "cell_type": "code",
   "execution_count": 60,
   "metadata": {},
   "outputs": [
    {
     "data": {
      "text/plain": [
       "dtype('float64')"
      ]
     },
     "execution_count": 60,
     "metadata": {},
     "output_type": "execute_result"
    }
   ],
   "source": [
    "# What is the type of the data in the \"Total day minutes\"\n",
    "# column?\n",
    "table[\"Total day minutes\"].dtype"
   ]
  },
  {
   "cell_type": "code",
   "execution_count": 61,
   "metadata": {},
   "outputs": [
    {
     "data": {
      "text/plain": [
       "Index(['State', 'Account length', 'Area code', 'International plan',\n",
       "       'Voice mail plan', 'Number vmail messages', 'Total day minutes',\n",
       "       'Total day calls', 'Total day charge', 'Total eve minutes',\n",
       "       'Total eve calls', 'Total eve charge', 'Total night minutes',\n",
       "       'Total night calls', 'Total night charge', 'Total intl minutes',\n",
       "       'Total intl calls', 'Total intl charge', 'Customer service calls',\n",
       "       'Termination'],\n",
       "      dtype='object')"
      ]
     },
     "execution_count": 61,
     "metadata": {},
     "output_type": "execute_result"
    }
   ],
   "source": [
    "# Print the list of the column names\n",
    "table.columns"
   ]
  },
  {
   "cell_type": "code",
   "execution_count": 62,
   "metadata": {},
   "outputs": [
    {
     "data": {
      "text/plain": [
       "WV    106\n",
       "MN     84\n",
       "NY     83\n",
       "AL     80\n",
       "OR     78\n",
       "WI     78\n",
       "OH     78\n",
       "WY     77\n",
       "VA     77\n",
       "CT     74\n",
       "Name: State, dtype: int64"
      ]
     },
     "execution_count": 62,
     "metadata": {},
     "output_type": "execute_result"
    }
   ],
   "source": [
    "# What are the 10 most frequent states?\n",
    "states = table[\"State\"]\n",
    "states.value_counts()[:10]"
   ]
  },
  {
   "cell_type": "code",
   "execution_count": 63,
   "metadata": {},
   "outputs": [
    {
     "name": "stdout",
     "output_type": "stream",
     "text": [
      "the average \"Account length\" for Ohio is 102.15384615384616\n",
      "the average \"Account length\" for New Jersey is 100.20588235294117\n"
     ]
    }
   ],
   "source": [
    "# What is the average \"Account length\" for Ohio (OH)? \n",
    "# for New Jersey (NJ)?\n",
    "acc_len = table[\"Account length\"]\n",
    "acc_len_OH = acc_len[table.State == \"OH\"]\n",
    "print('the average \"Account length\" for Ohio is', acc_len_OH.sum() / len(acc_len_OH))\n",
    "acc_len_NJ = acc_len[table.State == \"NJ\"]\n",
    "print('the average \"Account length\" for New Jersey is', acc_len_NJ.sum() / len(acc_len_NJ))"
   ]
  },
  {
   "cell_type": "code",
   "execution_count": 64,
   "metadata": {},
   "outputs": [
    {
     "data": {
      "text/plain": [
       "175"
      ]
     },
     "execution_count": 64,
     "metadata": {},
     "output_type": "execute_result"
    }
   ],
   "source": [
    "# What is the maximum \"Total night calls\"?\n",
    "table[\"Total night calls\"].max()"
   ]
  },
  {
   "cell_type": "code",
   "execution_count": 65,
   "metadata": {},
   "outputs": [
    {
     "name": "stdout",
     "output_type": "stream",
     "text": [
      "the state having the user with the maximum \"Total night calls\" is RI\n"
     ]
    }
   ],
   "source": [
    "# What is the state with the maximum \"Total night calls\"?\n",
    "print('the state having the user with the maximum \"Total night calls\" is', states[ table[\"Total night calls\"].idxmax ])\n",
    "\n",
    "# don't work:\n",
    "#state_total_night_call = table[[\"State\", \"Total night calls\"]].groupby(by=\"State\").sum()\n",
    "#max_state = state_total_night_call[ state_total_night_call.idxmax() ]\n",
    "#print('the state having maximum sum of \"Total night calls\" is', max_state)"
   ]
  },
  {
   "cell_type": "markdown",
   "metadata": {},
   "source": [
    "## Finding a problem"
   ]
  },
  {
   "cell_type": "code",
   "execution_count": 66,
   "metadata": {},
   "outputs": [
    {
     "data": {
      "text/plain": [
       "483"
      ]
     },
     "execution_count": 66,
     "metadata": {},
     "output_type": "execute_result"
    }
   ],
   "source": [
    "# The dataset contains a column \"Termination\" which\n",
    "# indicates if the client has terminated its contract with \n",
    "# the operator. Find the number of people who terminated\n",
    "# their contract.\n",
    "len(table[ table[\"Termination\"] == True ])"
   ]
  },
  {
   "cell_type": "code",
   "execution_count": 67,
   "metadata": {},
   "outputs": [
    {
     "data": {
      "text/plain": [
       "<matplotlib.axes._subplots.AxesSubplot at 0x89bd160>"
      ]
     },
     "execution_count": 67,
     "metadata": {},
     "output_type": "execute_result"
    },
    {
     "data": {
      "image/png": "[encoded data removed]",
      "text/plain": [
       "<Figure size 432x288 with 1 Axes>"
      ]
     },
     "metadata": {
      "needs_background": "light"
     },
     "output_type": "display_data"
    }
   ],
   "source": [
    "# Represent the number of person who terminated their\n",
    "# contract and those who didn't with a vertical bar chart.\n",
    "group_by_termination = table.groupby(by=\"Termination\")\n",
    "termination_count = group_by_termination[\"Termination\"].count()\n",
    "%matplotlib inline\n",
    "termination_count.plot(kind=\"bar\")"
   ]
  },
  {
   "cell_type": "code",
   "execution_count": 68,
   "metadata": {},
   "outputs": [
    {
     "name": "stdout",
     "output_type": "stream",
     "text": [
      "the ratio of people who terminated their contract is 0.14491449144914492\n"
     ]
    }
   ],
   "source": [
    "# Find the ratio of people who terminated their contract\n",
    "# among all users.\n",
    "ratio = len(table[ table[\"Termination\"] == True ]) / len(table)\n",
    "print(\"the ratio of people who terminated their contract is\", ratio)"
   ]
  },
  {
   "cell_type": "code",
   "execution_count": 69,
   "metadata": {},
   "outputs": [
    {
     "name": "stdout",
     "output_type": "stream",
     "text": [
      "Only 14% of clients who have terminated their contract seems very good.\n",
      "It seems that old clients get removed from the database on a regular basis.\n"
     ]
    }
   ],
   "source": [
    "# What is you opinion about this ratio ?\n",
    "print(\"\"\"Only 14% of clients who have terminated their contract seems very good.\n",
    "It seems that old clients get removed from the database on a regular basis.\"\"\")"
   ]
  },
  {
   "cell_type": "markdown",
   "metadata": {},
   "source": [
    "## Identifying similar patterns"
   ]
  },
  {
   "cell_type": "markdown",
   "metadata": {},
   "source": [
    "To increase its profits, the company should keep its customers and prevent them to terminate their contract. There may be a common reason why customers terminate."
   ]
  },
  {
   "cell_type": "code",
   "execution_count": 70,
   "metadata": {},
   "outputs": [
    {
     "data": {
      "text/plain": [
       "Account length            102.664596\n",
       "Area code                 437.817805\n",
       "Number vmail messages       5.115942\n",
       "Total day minutes         206.914079\n",
       "Total day calls           101.335404\n",
       "Total day charge           35.175921\n",
       "Total eve minutes         212.410145\n",
       "Total eve calls           100.561077\n",
       "Total eve charge           18.054969\n",
       "Total night minutes       205.231677\n",
       "Total night calls         100.399586\n",
       "Total night charge          9.235528\n",
       "Total intl minutes         10.700000\n",
       "Total intl calls            4.163561\n",
       "Total intl charge           2.889545\n",
       "Customer service calls      2.229814\n",
       "Termination                 1.000000\n",
       "dtype: float64"
      ]
     },
     "execution_count": 70,
     "metadata": {},
     "output_type": "execute_result"
    }
   ],
   "source": [
    "# Find the mean of all fields for users who terminated\n",
    "# their contracts.\n",
    "terminated_contracts = table[ table[\"Termination\"] == True ]\n",
    "terminated_contracts.mean()"
   ]
  },
  {
   "cell_type": "code",
   "execution_count": 71,
   "metadata": {},
   "outputs": [
    {
     "data": {
      "text/plain": [
       "Account length            100.793684\n",
       "Area code                 437.074737\n",
       "Number vmail messages       8.604561\n",
       "Total day minutes         175.175754\n",
       "Total day calls           100.283158\n",
       "Total day charge           29.780421\n",
       "Total eve minutes         199.043298\n",
       "Total eve calls           100.038596\n",
       "Total eve charge           16.918909\n",
       "Total night minutes       200.133193\n",
       "Total night calls         100.058246\n",
       "Total night charge          9.006074\n",
       "Total intl minutes         10.158877\n",
       "Total intl calls            4.532982\n",
       "Total intl charge           2.743404\n",
       "Customer service calls      1.449825\n",
       "Termination                 0.000000\n",
       "dtype: float64"
      ]
     },
     "execution_count": 71,
     "metadata": {},
     "output_type": "execute_result"
    }
   ],
   "source": [
    "# Find the mean of all fields for users who didn't\n",
    "# terminated their contracts.\n",
    "ongoing_contracts = table[ table[\"Termination\"] == False ]\n",
    "ongoing_contracts.mean()"
   ]
  },
  {
   "cell_type": "code",
   "execution_count": 72,
   "metadata": {},
   "outputs": [
    {
     "data": {
      "text/html": [
       "<div>\n",
       "<style scoped>\n",
       "    .dataframe tbody tr th:only-of-type {\n",
       "        vertical-align: middle;\n",
       "    }\n",
       "\n",
       "    .dataframe tbody tr th {\n",
       "        vertical-align: top;\n",
       "    }\n",
       "\n",
       "    .dataframe thead th {\n",
       "        text-align: right;\n",
       "    }\n",
       "</style>\n",
       "<table border=\"1\" class=\"dataframe\">\n",
       "  <thead>\n",
       "    <tr style=\"text-align: right;\">\n",
       "      <th></th>\n",
       "      <th>Mean for ongoing contracts</th>\n",
       "      <th>Mean for terminated contracts</th>\n",
       "    </tr>\n",
       "  </thead>\n",
       "  <tbody>\n",
       "    <tr>\n",
       "      <th>Account length</th>\n",
       "      <td>100.793684</td>\n",
       "      <td>102.664596</td>\n",
       "    </tr>\n",
       "    <tr>\n",
       "      <th>Area code</th>\n",
       "      <td>437.074737</td>\n",
       "      <td>437.817805</td>\n",
       "    </tr>\n",
       "    <tr>\n",
       "      <th>Number vmail messages</th>\n",
       "      <td>8.604561</td>\n",
       "      <td>5.115942</td>\n",
       "    </tr>\n",
       "    <tr>\n",
       "      <th>Total day minutes</th>\n",
       "      <td>175.175754</td>\n",
       "      <td>206.914079</td>\n",
       "    </tr>\n",
       "    <tr>\n",
       "      <th>Total day calls</th>\n",
       "      <td>100.283158</td>\n",
       "      <td>101.335404</td>\n",
       "    </tr>\n",
       "    <tr>\n",
       "      <th>Total day charge</th>\n",
       "      <td>29.780421</td>\n",
       "      <td>35.175921</td>\n",
       "    </tr>\n",
       "    <tr>\n",
       "      <th>Total eve minutes</th>\n",
       "      <td>199.043298</td>\n",
       "      <td>212.410145</td>\n",
       "    </tr>\n",
       "    <tr>\n",
       "      <th>Total eve calls</th>\n",
       "      <td>100.038596</td>\n",
       "      <td>100.561077</td>\n",
       "    </tr>\n",
       "    <tr>\n",
       "      <th>Total eve charge</th>\n",
       "      <td>16.918909</td>\n",
       "      <td>18.054969</td>\n",
       "    </tr>\n",
       "    <tr>\n",
       "      <th>Total night minutes</th>\n",
       "      <td>200.133193</td>\n",
       "      <td>205.231677</td>\n",
       "    </tr>\n",
       "    <tr>\n",
       "      <th>Total night calls</th>\n",
       "      <td>100.058246</td>\n",
       "      <td>100.399586</td>\n",
       "    </tr>\n",
       "    <tr>\n",
       "      <th>Total night charge</th>\n",
       "      <td>9.006074</td>\n",
       "      <td>9.235528</td>\n",
       "    </tr>\n",
       "    <tr>\n",
       "      <th>Total intl minutes</th>\n",
       "      <td>10.158877</td>\n",
       "      <td>10.700000</td>\n",
       "    </tr>\n",
       "    <tr>\n",
       "      <th>Total intl calls</th>\n",
       "      <td>4.532982</td>\n",
       "      <td>4.163561</td>\n",
       "    </tr>\n",
       "    <tr>\n",
       "      <th>Total intl charge</th>\n",
       "      <td>2.743404</td>\n",
       "      <td>2.889545</td>\n",
       "    </tr>\n",
       "    <tr>\n",
       "      <th>Customer service calls</th>\n",
       "      <td>1.449825</td>\n",
       "      <td>2.229814</td>\n",
       "    </tr>\n",
       "    <tr>\n",
       "      <th>Termination</th>\n",
       "      <td>0.000000</td>\n",
       "      <td>1.000000</td>\n",
       "    </tr>\n",
       "  </tbody>\n",
       "</table>\n",
       "</div>"
      ],
      "text/plain": [
       "                        Mean for ongoing contracts  \\\n",
       "Account length                          100.793684   \n",
       "Area code                               437.074737   \n",
       "Number vmail messages                     8.604561   \n",
       "Total day minutes                       175.175754   \n",
       "Total day calls                         100.283158   \n",
       "Total day charge                         29.780421   \n",
       "Total eve minutes                       199.043298   \n",
       "Total eve calls                         100.038596   \n",
       "Total eve charge                         16.918909   \n",
       "Total night minutes                     200.133193   \n",
       "Total night calls                       100.058246   \n",
       "Total night charge                        9.006074   \n",
       "Total intl minutes                       10.158877   \n",
       "Total intl calls                          4.532982   \n",
       "Total intl charge                         2.743404   \n",
       "Customer service calls                    1.449825   \n",
       "Termination                               0.000000   \n",
       "\n",
       "                        Mean for terminated contracts  \n",
       "Account length                             102.664596  \n",
       "Area code                                  437.817805  \n",
       "Number vmail messages                        5.115942  \n",
       "Total day minutes                          206.914079  \n",
       "Total day calls                            101.335404  \n",
       "Total day charge                            35.175921  \n",
       "Total eve minutes                          212.410145  \n",
       "Total eve calls                            100.561077  \n",
       "Total eve charge                            18.054969  \n",
       "Total night minutes                        205.231677  \n",
       "Total night calls                          100.399586  \n",
       "Total night charge                           9.235528  \n",
       "Total intl minutes                          10.700000  \n",
       "Total intl calls                             4.163561  \n",
       "Total intl charge                            2.889545  \n",
       "Customer service calls                       2.229814  \n",
       "Termination                                  1.000000  "
      ]
     },
     "execution_count": 72,
     "metadata": {},
     "output_type": "execute_result"
    }
   ],
   "source": [
    "# Compare it to the mean of the previous question.\n",
    "pd.DataFrame([ongoing_contracts.mean(), terminated_contracts.mean()], index =\n",
    "             [\"Mean for ongoing contracts\", \"Mean for terminated contracts\"]).transpose()"
   ]
  },
  {
   "cell_type": "code",
   "execution_count": 73,
   "metadata": {},
   "outputs": [
    {
     "name": "stdout",
     "output_type": "stream",
     "text": [
      "Clients who have terminated their contracts have far less \"Number vmail messages\" and substentialy more \"Customer service calls\".\n"
     ]
    }
   ],
   "source": [
    "# Do you see large differences?\n",
    "print('Clients who have terminated their contracts have far less \"Number vmail messages\"',\n",
    "      'and substentialy more \"Customer service calls\".')"
   ]
  },
  {
   "cell_type": "code",
   "execution_count": 74,
   "metadata": {},
   "outputs": [],
   "source": [
    "# Find the following information:\n",
    "#  - number of users with a contract AND (NO International plan AND NO Voice mail plan)\n",
    "#  - number of users with a contract AND (International plan OR Voice mail plan)\n",
    "#  - number of users with a contract AND (International plan AND Voice mail plan)\n",
    "#  - the same 3 information for users who terminated their contract\n",
    "ongoing_contracts_stats = pd.Series()\n",
    "ongoing_contracts_stats[\"NO International plan AND NO Voice mail plan\"] = len(\n",
    "     ongoing_contracts[ (ongoing_contracts[\"International plan\"] == \"No\")\n",
    "                       & (ongoing_contracts[\"Voice mail plan\"] == \"No\")\n",
    "                      ])\n",
    "ongoing_contracts_stats[\"International plan OR Voice mail plan\"] = len(\n",
    "     ongoing_contracts[ (ongoing_contracts[\"International plan\"] == \"Yes\")\n",
    "                       | (ongoing_contracts[\"Voice mail plan\"] == \"Yes\")\n",
    "                      ])\n",
    "ongoing_contracts_stats[\"International plan AND Voice mail plan\"] = len(\n",
    "     ongoing_contracts[ (ongoing_contracts[\"International plan\"] == \"Yes\")\n",
    "                       & (ongoing_contracts[\"Voice mail plan\"] == \"Yes\")\n",
    "                      ])\n",
    "\n",
    "terminated_contracts_stats = pd.Series()\n",
    "terminated_contracts_stats[\"NO International plan AND NO Voice mail plan\"] = len(\n",
    "     terminated_contracts[ (terminated_contracts[\"International plan\"] == \"No\")\n",
    "                          & (terminated_contracts[\"Voice mail plan\"] == \"No\")\n",
    "                         ])\n",
    "terminated_contracts_stats[\"International plan OR Voice mail plan\"] = len(\n",
    "     terminated_contracts[ (terminated_contracts[\"International plan\"] == \"Yes\")\n",
    "                          | (terminated_contracts[\"Voice mail plan\"] == \"Yes\")\n",
    "                         ])\n",
    "terminated_contracts_stats[\"International plan AND Voice mail plan\"] = len(\n",
    "     terminated_contracts[ (terminated_contracts[\"International plan\"] == \"Yes\")\n",
    "                          & (terminated_contracts[\"Voice mail plan\"] == \"Yes\")\n",
    "                         ])\n",
    "\n",
    "stats = pd.DataFrame([ongoing_contracts_stats, terminated_contracts_stats],\n",
    "             index = [\"Clients with ongoing contracts\", \"Clients who terminated their contracts\"])"
   ]
  },
  {
   "cell_type": "code",
   "execution_count": 75,
   "metadata": {},
   "outputs": [
    {
     "data": {
      "text/html": [
       "<div>\n",
       "<style scoped>\n",
       "    .dataframe tbody tr th:only-of-type {\n",
       "        vertical-align: middle;\n",
       "    }\n",
       "\n",
       "    .dataframe tbody tr th {\n",
       "        vertical-align: top;\n",
       "    }\n",
       "\n",
       "    .dataframe thead th {\n",
       "        text-align: right;\n",
       "    }\n",
       "</style>\n",
       "<table border=\"1\" class=\"dataframe\">\n",
       "  <thead>\n",
       "    <tr style=\"text-align: right;\">\n",
       "      <th></th>\n",
       "      <th>NO International plan AND NO Voice mail plan</th>\n",
       "      <th>International plan OR Voice mail plan</th>\n",
       "      <th>International plan AND Voice mail plan</th>\n",
       "    </tr>\n",
       "  </thead>\n",
       "  <tbody>\n",
       "    <tr>\n",
       "      <th>Clients with ongoing contracts</th>\n",
       "      <td>1878</td>\n",
       "      <td>972</td>\n",
       "      <td>56</td>\n",
       "    </tr>\n",
       "    <tr>\n",
       "      <th>Clients who terminated their contracts</th>\n",
       "      <td>302</td>\n",
       "      <td>181</td>\n",
       "      <td>36</td>\n",
       "    </tr>\n",
       "  </tbody>\n",
       "</table>\n",
       "</div>"
      ],
      "text/plain": [
       "                                        NO International plan AND NO Voice mail plan  \\\n",
       "Clients with ongoing contracts                                                  1878   \n",
       "Clients who terminated their contracts                                           302   \n",
       "\n",
       "                                        International plan OR Voice mail plan  \\\n",
       "Clients with ongoing contracts                                            972   \n",
       "Clients who terminated their contracts                                    181   \n",
       "\n",
       "                                        International plan AND Voice mail plan  \n",
       "Clients with ongoing contracts                                              56  \n",
       "Clients who terminated their contracts                                      36  "
      ]
     },
     "execution_count": 75,
     "metadata": {},
     "output_type": "execute_result"
    }
   ],
   "source": [
    "stats"
   ]
  },
  {
   "cell_type": "code",
   "execution_count": 76,
   "metadata": {},
   "outputs": [
    {
     "data": {
      "text/plain": [
       "<matplotlib.axes._subplots.AxesSubplot at 0x8adbf60>"
      ]
     },
     "execution_count": 76,
     "metadata": {},
     "output_type": "execute_result"
    },
    {
     "data": {
      "image/png": "[encoded data removed]",
      "text/plain": [
       "<Figure size 432x288 with 1 Axes>"
      ]
     },
     "metadata": {
      "needs_background": "light"
     },
     "output_type": "display_data"
    }
   ],
   "source": [
    "# Print the 6 previous information in a vertical bar graph\n",
    "# Add a legend to differenciate the different categories\n",
    "stats.transpose().plot(kind=\"bar\")"
   ]
  },
  {
   "cell_type": "code",
   "execution_count": 77,
   "metadata": {},
   "outputs": [
    {
     "name": "stdout",
     "output_type": "stream",
     "text": [
      "Verification of the new \"Total charge\" column:\n"
     ]
    },
    {
     "data": {
      "text/html": [
       "<div>\n",
       "<style scoped>\n",
       "    .dataframe tbody tr th:only-of-type {\n",
       "        vertical-align: middle;\n",
       "    }\n",
       "\n",
       "    .dataframe tbody tr th {\n",
       "        vertical-align: top;\n",
       "    }\n",
       "\n",
       "    .dataframe thead th {\n",
       "        text-align: right;\n",
       "    }\n",
       "</style>\n",
       "<table border=\"1\" class=\"dataframe\">\n",
       "  <thead>\n",
       "    <tr style=\"text-align: right;\">\n",
       "      <th></th>\n",
       "      <th>State</th>\n",
       "      <th>Account length</th>\n",
       "      <th>Area code</th>\n",
       "      <th>International plan</th>\n",
       "      <th>Voice mail plan</th>\n",
       "      <th>Number vmail messages</th>\n",
       "      <th>Total day minutes</th>\n",
       "      <th>Total day calls</th>\n",
       "      <th>Total day charge</th>\n",
       "      <th>Total eve minutes</th>\n",
       "      <th>...</th>\n",
       "      <th>Total eve charge</th>\n",
       "      <th>Total night minutes</th>\n",
       "      <th>Total night calls</th>\n",
       "      <th>Total night charge</th>\n",
       "      <th>Total intl minutes</th>\n",
       "      <th>Total intl calls</th>\n",
       "      <th>Total intl charge</th>\n",
       "      <th>Customer service calls</th>\n",
       "      <th>Termination</th>\n",
       "      <th>Total charge</th>\n",
       "    </tr>\n",
       "  </thead>\n",
       "  <tbody>\n",
       "    <tr>\n",
       "      <th>0</th>\n",
       "      <td>KS</td>\n",
       "      <td>128</td>\n",
       "      <td>415</td>\n",
       "      <td>No</td>\n",
       "      <td>Yes</td>\n",
       "      <td>25</td>\n",
       "      <td>265.1</td>\n",
       "      <td>110</td>\n",
       "      <td>45.07</td>\n",
       "      <td>197.4</td>\n",
       "      <td>...</td>\n",
       "      <td>16.78</td>\n",
       "      <td>244.7</td>\n",
       "      <td>91</td>\n",
       "      <td>11.01</td>\n",
       "      <td>10.0</td>\n",
       "      <td>3</td>\n",
       "      <td>2.70</td>\n",
       "      <td>1</td>\n",
       "      <td>False</td>\n",
       "      <td>75.56</td>\n",
       "    </tr>\n",
       "    <tr>\n",
       "      <th>1</th>\n",
       "      <td>OH</td>\n",
       "      <td>107</td>\n",
       "      <td>415</td>\n",
       "      <td>No</td>\n",
       "      <td>Yes</td>\n",
       "      <td>26</td>\n",
       "      <td>161.6</td>\n",
       "      <td>123</td>\n",
       "      <td>27.47</td>\n",
       "      <td>195.5</td>\n",
       "      <td>...</td>\n",
       "      <td>16.62</td>\n",
       "      <td>254.4</td>\n",
       "      <td>103</td>\n",
       "      <td>11.45</td>\n",
       "      <td>13.7</td>\n",
       "      <td>3</td>\n",
       "      <td>3.70</td>\n",
       "      <td>1</td>\n",
       "      <td>False</td>\n",
       "      <td>59.24</td>\n",
       "    </tr>\n",
       "    <tr>\n",
       "      <th>2</th>\n",
       "      <td>NJ</td>\n",
       "      <td>137</td>\n",
       "      <td>415</td>\n",
       "      <td>No</td>\n",
       "      <td>No</td>\n",
       "      <td>0</td>\n",
       "      <td>243.4</td>\n",
       "      <td>114</td>\n",
       "      <td>41.38</td>\n",
       "      <td>121.2</td>\n",
       "      <td>...</td>\n",
       "      <td>10.30</td>\n",
       "      <td>162.6</td>\n",
       "      <td>104</td>\n",
       "      <td>7.32</td>\n",
       "      <td>12.2</td>\n",
       "      <td>5</td>\n",
       "      <td>3.29</td>\n",
       "      <td>0</td>\n",
       "      <td>False</td>\n",
       "      <td>62.29</td>\n",
       "    </tr>\n",
       "    <tr>\n",
       "      <th>3</th>\n",
       "      <td>OH</td>\n",
       "      <td>84</td>\n",
       "      <td>408</td>\n",
       "      <td>Yes</td>\n",
       "      <td>No</td>\n",
       "      <td>0</td>\n",
       "      <td>299.4</td>\n",
       "      <td>71</td>\n",
       "      <td>50.90</td>\n",
       "      <td>61.9</td>\n",
       "      <td>...</td>\n",
       "      <td>5.26</td>\n",
       "      <td>196.9</td>\n",
       "      <td>89</td>\n",
       "      <td>8.86</td>\n",
       "      <td>6.6</td>\n",
       "      <td>7</td>\n",
       "      <td>1.78</td>\n",
       "      <td>2</td>\n",
       "      <td>False</td>\n",
       "      <td>66.80</td>\n",
       "    </tr>\n",
       "    <tr>\n",
       "      <th>4</th>\n",
       "      <td>OK</td>\n",
       "      <td>75</td>\n",
       "      <td>415</td>\n",
       "      <td>Yes</td>\n",
       "      <td>No</td>\n",
       "      <td>0</td>\n",
       "      <td>166.7</td>\n",
       "      <td>113</td>\n",
       "      <td>28.34</td>\n",
       "      <td>148.3</td>\n",
       "      <td>...</td>\n",
       "      <td>12.61</td>\n",
       "      <td>186.9</td>\n",
       "      <td>121</td>\n",
       "      <td>8.41</td>\n",
       "      <td>10.1</td>\n",
       "      <td>3</td>\n",
       "      <td>2.73</td>\n",
       "      <td>3</td>\n",
       "      <td>False</td>\n",
       "      <td>52.09</td>\n",
       "    </tr>\n",
       "  </tbody>\n",
       "</table>\n",
       "<p>5 rows × 21 columns</p>\n",
       "</div>"
      ],
      "text/plain": [
       "  State  Account length  Area code International plan Voice mail plan  \\\n",
       "0    KS             128        415                 No             Yes   \n",
       "1    OH             107        415                 No             Yes   \n",
       "2    NJ             137        415                 No              No   \n",
       "3    OH              84        408                Yes              No   \n",
       "4    OK              75        415                Yes              No   \n",
       "\n",
       "   Number vmail messages  Total day minutes  Total day calls  \\\n",
       "0                     25              265.1              110   \n",
       "1                     26              161.6              123   \n",
       "2                      0              243.4              114   \n",
       "3                      0              299.4               71   \n",
       "4                      0              166.7              113   \n",
       "\n",
       "   Total day charge  Total eve minutes      ...       Total eve charge  \\\n",
       "0             45.07              197.4      ...                  16.78   \n",
       "1             27.47              195.5      ...                  16.62   \n",
       "2             41.38              121.2      ...                  10.30   \n",
       "3             50.90               61.9      ...                   5.26   \n",
       "4             28.34              148.3      ...                  12.61   \n",
       "\n",
       "   Total night minutes  Total night calls  Total night charge  \\\n",
       "0                244.7                 91               11.01   \n",
       "1                254.4                103               11.45   \n",
       "2                162.6                104                7.32   \n",
       "3                196.9                 89                8.86   \n",
       "4                186.9                121                8.41   \n",
       "\n",
       "   Total intl minutes  Total intl calls  Total intl charge  \\\n",
       "0                10.0                 3               2.70   \n",
       "1                13.7                 3               3.70   \n",
       "2                12.2                 5               3.29   \n",
       "3                 6.6                 7               1.78   \n",
       "4                10.1                 3               2.73   \n",
       "\n",
       "   Customer service calls  Termination  Total charge  \n",
       "0                       1        False         75.56  \n",
       "1                       1        False         59.24  \n",
       "2                       0        False         62.29  \n",
       "3                       2        False         66.80  \n",
       "4                       3        False         52.09  \n",
       "\n",
       "[5 rows x 21 columns]"
      ]
     },
     "execution_count": 77,
     "metadata": {},
     "output_type": "execute_result"
    }
   ],
   "source": [
    "# Add a new column \"Total charge\" that is the sum of 4\n",
    "# other colums :\n",
    "#   - \"Total day charge\"\n",
    "#   - \"Total eve charge\"\n",
    "#   - \"Total night charge\"\n",
    "#   - \"Total intl charge\"\n",
    "table[\"Total charge\"] = table[\"Total day charge\"] + table[\"Total eve charge\"] \\\n",
    "                        + table[\"Total night charge\"] + table[\"Total intl charge\"]\n",
    "print('Verification of the new \"Total charge\" column:')\n",
    "table[:5]"
   ]
  },
  {
   "cell_type": "code",
   "execution_count": 78,
   "metadata": {},
   "outputs": [
    {
     "name": "stdout",
     "output_type": "stream",
     "text": [
      "Termination\n",
      "False    58.448807\n",
      "True     65.355963\n",
      "Name: Total charge, dtype: float64\n"
     ]
    },
    {
     "data": {
      "text/plain": [
       "<matplotlib.axes._subplots.AxesSubplot at 0x8a2ebe0>"
      ]
     },
     "execution_count": 78,
     "metadata": {},
     "output_type": "execute_result"
    },
    {
     "data": {
      "image/png": "[encoded data removed]",
      "text/plain": [
       "<Figure size 432x288 with 1 Axes>"
      ]
     },
     "metadata": {
      "needs_background": "light"
     },
     "output_type": "display_data"
    }
   ],
   "source": [
    "# Find the mean of \"Total charge\" for users with a contract\n",
    "# and thos who terminated.\n",
    "total_charge_by_termination = group_by_termination[\"Total charge\"].mean()\n",
    "print(total_charge_by_termination)\n",
    "total_charge_by_termination.plot(kind = \"bar\", title = \"Total charge\")"
   ]
  },
  {
   "cell_type": "code",
   "execution_count": 79,
   "metadata": {},
   "outputs": [
    {
     "name": "stdout",
     "output_type": "stream",
     "text": [
      "User who terminated their contracts were charged 11.81744515897853% more in average.\n",
      "This can mean that overcharged user are more likely to terminate their contract\n"
     ]
    }
   ],
   "source": [
    "# Do you have any opinion on this result?\n",
    "print(\"User who terminated their contracts were charged {}% more in average.\".format(\n",
    "    100 * total_charge_by_termination[True] / total_charge_by_termination[False] - 100))\n",
    "print(\"This can mean that overcharged user are more likely to terminate their contract\")"
   ]
  },
  {
   "cell_type": "code",
   "execution_count": 80,
   "metadata": {},
   "outputs": [
    {
     "name": "stdout",
     "output_type": "stream",
     "text": [
      "The ratio of users who terminated among users with at least 4 calls is 0.5168539325842697\n",
      "This is extremely high, so the misatisfaction of the clients torward the support is probably one of the most important reason of people terminating their contract\n"
     ]
    }
   ],
   "source": [
    "# Find the people with at least 4 calls to customer \n",
    "# service. What is the ratio of users who terminated among\n",
    "# these users?\n",
    "user_with_4_calls = table[ table[\"Customer service calls\"] >= 4 ]\n",
    "ratio = len(user_with_4_calls[ user_with_4_calls[\"Termination\"] == True ]) / len(user_with_4_calls)\n",
    "print(\"The ratio of users who terminated among users with at least 4 calls is\", ratio)\n",
    "print(\"This is extremely high, so the misatisfaction of the clients torward the support is \\\n",
    "probably one of the most important reason of people terminating their contract\")"
   ]
  }
 ],
 "metadata": {
  "kernelspec": {
   "display_name": "Python 3",
   "language": "python",
   "name": "python3"
  },
  "language_info": {
   "codemirror_mode": {
    "name": "ipython",
    "version": 3
   },
   "file_extension": ".py",
   "mimetype": "text/x-python",
   "name": "python",
   "nbconvert_exporter": "python",
   "pygments_lexer": "ipython3",
   "version": "3.7.0"
  }
 },
 "nbformat": 4,
 "nbformat_minor": 2
}
